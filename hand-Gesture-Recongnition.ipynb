{
  "nbformat": 4,
  "nbformat_minor": 0,
  "metadata": {
    "colab": {
      "provenance": [],
      "authorship_tag": "ABX9TyOhHTCt9y8TAse2HdRdJ09o",
      "include_colab_link": true
    },
    "kernelspec": {
      "name": "python3",
      "display_name": "Python 3"
    },
    "language_info": {
      "name": "python"
    }
  },
  "cells": [
    {
      "cell_type": "markdown",
      "metadata": {
        "id": "view-in-github",
        "colab_type": "text"
      },
      "source": [
        "<a href=\"https://colab.research.google.com/github/rohit8077/Machine-learning-/blob/main/hand-Gesture-Recongnition.ipynb\" target=\"_parent\"><img src=\"https://colab.research.google.com/assets/colab-badge.svg\" alt=\"Open In Colab\"/></a>"
      ]
    },
    {
      "cell_type": "code",
      "execution_count": null,
      "metadata": {
        "id": "eUiaOHMWT6Bt"
      },
      "outputs": [],
      "source": [
        "import warnings\n",
        "warnings.filterwarnings('ignore')\n",
        "\n",
        "import keras\n",
        "import matplotlib.pyplot as plt # for plotting\n",
        "import os # provides a way of using operating system dependent functionality\n",
        "import cv2 #Image handling library\n",
        "import numpy as np\n",
        "\n",
        "# Import of keras model and hidden layers for our convolutional network\n",
        "from keras.layers import Conv2D, Activation, MaxPool2D, Dense, Flatten, Dropout"
      ]
    },
    {
      "cell_type": "code",
      "source": [
        "CATEGORIES = [\"01_palm\", '02_l','03_fist','04_fist_moved','05_thumb','06_index','07_ok','08_palm_moved','09_c','10_down']\n",
        "IMG_SIZE = 50\n",
        "\n",
        "# paths for dataset\n",
        "data_path = \"C:\\\\Users\\\\Pc\\\\Desktop\\\\hand\""
      ],
      "metadata": {
        "id": "ZEfsnPV_UCxE"
      },
      "execution_count": null,
      "outputs": []
    },
    {
      "cell_type": "code",
      "source": [
        "image_data = []\n",
        "for dr in os.listdir(data_path):\n",
        "    for category in CATEGORIES:\n",
        "        class_index = CATEGORIES.index(category)\n",
        "        path = os.path.join(data_path, dr, category)\n",
        "        for img in os.listdir(path):\n",
        "            try:\n",
        "                img_arr = cv2.imread(os.path.join(path, img), cv2.IMREAD_GRAYSCALE)\n",
        "                image_data.append([cv2.resize(img_arr, (IMG_SIZE, IMG_SIZE)), class_index])\n",
        "            except Exception as e:\n",
        "                pass\n",
        "image_data[0]"
      ],
      "metadata": {
        "id": "LPpfHktyWgXw"
      },
      "execution_count": null,
      "outputs": []
    },
    {
      "cell_type": "code",
      "source": [
        "import random\n",
        "random.shuffle(image_data)"
      ],
      "metadata": {
        "id": "Mom0pFpvU8xD"
      },
      "execution_count": null,
      "outputs": []
    },
    {
      "cell_type": "code",
      "source": [
        "input_data = []\n",
        "label = []\n",
        "for X, y in image_data:\n",
        "    input_data.append(X)\n",
        "    label.append(y)"
      ],
      "metadata": {
        "id": "caAaUc93U_XY"
      },
      "execution_count": null,
      "outputs": []
    },
    {
      "cell_type": "code",
      "source": [
        "label[:10]"
      ],
      "metadata": {
        "id": "2T2700kZVCrP"
      },
      "execution_count": null,
      "outputs": []
    },
    {
      "cell_type": "code",
      "source": [
        "plt.figure(1, figsize=(10,10))\n",
        "for i in range(1,10):\n",
        "    plt.subplot(3,3,i)\n",
        "    plt.imshow(image_data[i][0], cmap='hot')\n",
        "    plt.xticks([])\n",
        "    plt.yticks([])\n",
        "    plt.title(CATEGORIES[label[i]][3:])\n",
        "plt.show()"
      ],
      "metadata": {
        "id": "ILf1W5JFVFiM"
      },
      "execution_count": null,
      "outputs": []
    },
    {
      "cell_type": "code",
      "source": [
        "# Normalizing the data\n",
        "input_data = np.array(input_data)\n",
        "label = np.array(label)\n",
        "input_data = input_data/255.0\n",
        "input_data.shape"
      ],
      "metadata": {
        "id": "96CcuSx5VIth"
      },
      "execution_count": null,
      "outputs": []
    },
    {
      "cell_type": "code",
      "source": [
        "# one hot encoding\n",
        "label = keras.utils.to_categorical(label, num_classes=10,dtype='i1')\n",
        "label[0]"
      ],
      "metadata": {
        "id": "u588b7juVSO5"
      },
      "execution_count": null,
      "outputs": []
    },
    {
      "cell_type": "code",
      "source": [
        "# reshaping the data\n",
        "input_data.shape = (-1, IMG_SIZE, IMG_SIZE, 1)"
      ],
      "metadata": {
        "id": "c6gPEDemVZDY"
      },
      "execution_count": null,
      "outputs": []
    },
    {
      "cell_type": "code",
      "source": [
        "# splitting the input_data to train and test data\n",
        "from sklearn.model_selection import train_test_split\n",
        "X_train, X_test, y_train, y_test = train_test_split(input_data, label, test_size = 0.3, random_state=0)"
      ],
      "metadata": {
        "id": "DxxqSC35VafD"
      },
      "execution_count": null,
      "outputs": []
    },
    {
      "cell_type": "code",
      "source": [
        "model = keras.models.Sequential()\n",
        "\n",
        "model.add(Conv2D(filters = 32, kernel_size = (3,3), input_shape = (IMG_SIZE, IMG_SIZE, 1)))\n",
        "model.add(Activation('relu'))\n",
        "\n",
        "\n",
        "model.add(Conv2D(filters = 32, kernel_size = (3,3)))\n",
        "model.add(Activation('relu'))\n",
        "model.add(MaxPool2D(pool_size=(2,2)))\n",
        "model.add(Dropout(0.3))\n",
        "\n",
        "model.add(Conv2D(filters = 64, kernel_size = (3,3)))\n",
        "model.add(Activation('relu'))\n",
        "model.add(MaxPool2D(pool_size=(2,2)))\n",
        "model.add(Dropout(0.3))\n",
        "\n",
        "model.add(Flatten())\n",
        "model.add(Dense(256, activation='relu'))\n",
        "model.add(Dense(10, activation='softmax'))\n",
        "\n",
        "model.compile(loss='categorical_crossentropy',\n",
        "             optimizer = 'rmsprop',\n",
        "             metrics = ['accuracy'])"
      ],
      "metadata": {
        "id": "jm_5gE7fVeM_"
      },
      "execution_count": null,
      "outputs": []
    },
    {
      "cell_type": "code",
      "source": [
        "<keras.callbacks.callbacks.History at 0x7fac0c13ec10>"
      ],
      "metadata": {
        "id": "fhOT8xm0ViQW"
      },
      "execution_count": null,
      "outputs": []
    },
    {
      "cell_type": "code",
      "source": [
        "model.summary()"
      ],
      "metadata": {
        "id": "3SfpvIszWApm"
      },
      "execution_count": null,
      "outputs": []
    },
    {
      "cell_type": "code",
      "source": [
        "plt.plot(model.history.history['loss'])\n",
        "plt.plot(model.history.history['val_loss'])\n",
        "plt.title('Model Loss')\n",
        "plt.ylabel('Loss')\n",
        "plt.xlabel('Epochs')\n",
        "plt.legend(['train', 'test'])\n",
        "plt.show()"
      ],
      "metadata": {
        "id": "S4ogjUGeWLnM"
      },
      "execution_count": null,
      "outputs": []
    },
    {
      "cell_type": "code",
      "source": [
        "plt.plot(model.history.history['accuracy'])\n",
        "plt.plot(model.history.history['val_accuracy'])\n",
        "plt.title('Model Accuracy')\n",
        "plt.ylabel('Accuracy')\n",
        "plt.xlabel('Epochs')\n",
        "plt.legend(['train', 'test'])\n",
        "plt.show()"
      ],
      "metadata": {
        "id": "9Ug6GAZWWNJu"
      },
      "execution_count": null,
      "outputs": []
    },
    {
      "cell_type": "code",
      "source": [
        "#calculate loss and accuracy on test data\n",
        "\n",
        "test_loss, test_accuracy = model.evaluate(X_test, y_test)\n",
        "\n",
        "print('Test accuracy: {:2.2f}%'.format(test_accuracy*100))"
      ],
      "metadata": {
        "id": "eOEZ0EIZWP8q"
      },
      "execution_count": null,
      "outputs": []
    },
    {
      "cell_type": "code",
      "source": [
        "from sklearn.metrics import confusion_matrix\n",
        "import seaborn as sn\n",
        "cat = [c[3:] for c in CATEGORIES]\n",
        "plt.figure(figsize=(10,10))\n",
        "cm = confusion_matrix(np.argmax(y_test, axis=1), np.argmax(model.predict(X_test), axis=1))\n",
        "sn.heatmap(cm, annot=True,xticklabels=cat, yticklabels=cat)\n",
        "plt.plot()"
      ],
      "metadata": {
        "id": "XTJTzPkCWUdQ"
      },
      "execution_count": null,
      "outputs": []
    }
  ]
}